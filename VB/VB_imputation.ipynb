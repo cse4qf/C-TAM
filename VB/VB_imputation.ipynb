{
 "cells": [
  {
   "cell_type": "markdown",
   "metadata": {},
   "source": [
    "This script imputes Veteran's Benefits (VB) recipients dollar benefit amount to match the aggregates with United States Department of Veterans Affairs (USVA) statistics for VB. In this current version, we used 2015 CPS data and USVA FY2014 and FY2015 annual reports on VB. Please refer to the documentation in the same folder for more details on methodology and assumptions. The output this script is an individual level dataset that contains CPS personal level ID (PERIDNUM), individual participation indicator (vb_participation, 0 - not a recipient, 1 - current recipient on file, 2 - imputed recipient), and benefit amount.\n",
    "\n",
    "Input: 2015 CPS (cpsmar2015t.csv), number of recipients and their benefits amount by state in 2014 (VB_administrative.csv)\n",
    "\n",
    "Output: VB_Imputation.csv\n",
    "\n",
    "Additional Source links: https://www.va.gov/vetdata/ "
   ]
  },
  {
   "cell_type": "code",
   "execution_count": 1,
   "metadata": {
    "collapsed": true
   },
   "outputs": [],
   "source": [
    "import pandas as pd\n",
    "from pandas import DataFrame\n",
    "import numpy as np\n",
    "import random\n",
    "import statsmodels.discrete.discrete_model as sm\n",
    "import matplotlib.pyplot as plt "
   ]
  },
  {
   "cell_type": "markdown",
   "metadata": {},
   "source": [
    "##### Variables we use in Veteran's Benefits"
   ]
  },
  {
   "cell_type": "code",
   "execution_count": 2,
   "metadata": {},
   "outputs": [
    {
     "name": "stderr",
     "output_type": "stream",
     "text": [
      "C:\\Users\\comm6\\AppData\\Local\\Continuum\\Anaconda3\\lib\\site-packages\\IPython\\core\\interactiveshell.py:2717: DtypeWarning: Columns (5,22,23,28,80,187,273) have mixed types. Specify dtype option on import or set low_memory=False.\n",
      "  interactivity=interactivity, compiler=compiler, result=result)\n"
     ]
    }
   ],
   "source": [
    "CPS_dataset = pd.read_csv('asec2015_pubuse.csv')\n",
    "columns_to_keep = ['hvet_yn','hvetval','fvetval','finc_vet','sur_yn','srvs_val','sur_sc1','sur_val1','tsurval1','sur_sc2',\n",
    "                   'sur_val2','tsurval2','vet_val','vet_yn','vet_typ1','vet_typ2','vet_typ3','vet_typ4','vet_typ5','hsur_yn',\n",
    "                   'hsurval','fsurval','finc_sur','gestfips','marsupwt','peafever','champ','a_age','wsal_val','semp_val','frse_val',\n",
    "                   'pedisdrs', 'pedisear', 'pediseye', 'pedisout', 'pedisphy', 'pedisrem','a_sex','peridnum','fh_seq','wc_yn', 'ss_yn', \n",
    "                   'dis_yn', 'hed_yn', 'hcsp_yn', 'hfdval','paw_yn', 'uc_yn', 'mcaid','mcare']\n",
    "CPS_dataset = CPS_dataset[columns_to_keep]\n",
    "CPS_dataset.to_csv('VB.csv', columns=columns_to_keep, index=False)"
   ]
  },
  {
   "cell_type": "code",
   "execution_count": 3,
   "metadata": {
    "collapsed": true
   },
   "outputs": [],
   "source": [
    "CPS_dataset = pd.read_csv('VB.csv')"
   ]
  },
  {
   "cell_type": "code",
   "execution_count": 4,
   "metadata": {
    "collapsed": true
   },
   "outputs": [],
   "source": [
    "# VB value\n",
    "vbvalue = pd.to_numeric(np.where(CPS_dataset.vet_val!= 'None or not in universe', CPS_dataset.vet_val, 0))\n",
    "# VB indicator\n",
    "indicator = pd.to_numeric(np.where(CPS_dataset.vet_yn== 'Yes', 1, 0))\n",
    "# On duty before\n",
    "active = pd.to_numeric(np.where(CPS_dataset.peafever== 'Yes', 1, 0))"
   ]
  },
  {
   "cell_type": "code",
   "execution_count": 5,
   "metadata": {
    "collapsed": true
   },
   "outputs": [],
   "source": [
    "VB = DataFrame(vbvalue.transpose())\n",
    "VB.columns = ['vbvalue']"
   ]
  },
  {
   "cell_type": "code",
   "execution_count": 6,
   "metadata": {
    "collapsed": true
   },
   "outputs": [],
   "source": [
    "# 5 types of VB\n",
    "VB['kind'] = pd.to_numeric(np.where(CPS_dataset.vet_typ1== 'Yes', 1, 0))\n",
    "VB.kind = pd.to_numeric(np.where(CPS_dataset.vet_typ2== 'Yes', 2, VB.kind))\n",
    "VB.kind = pd.to_numeric(np.where(CPS_dataset.vet_typ3== 'Yes', 3, VB.kind))\n",
    "VB.kind = pd.to_numeric(np.where(CPS_dataset.vet_typ4== 'Yes', 4, VB.kind))\n",
    "VB.kind = pd.to_numeric(np.where(CPS_dataset.vet_typ5== 'Yes', 5, VB.kind))"
   ]
  },
  {
   "cell_type": "code",
   "execution_count": 7,
   "metadata": {
    "collapsed": true
   },
   "outputs": [],
   "source": [
    "VB['indicator'] = indicator\n",
    "VB['active'] = active\n",
    "VB['marsupwt'] = CPS_dataset.marsupwt\n",
    "VB['fh_seq'] = CPS_dataset.fh_seq\n",
    "VB['gestfips'] = CPS_dataset.gestfips\n",
    "VB['peridnum'] = CPS_dataset.peridnum"
   ]
  },
  {
   "cell_type": "code",
   "execution_count": 8,
   "metadata": {
    "collapsed": true
   },
   "outputs": [],
   "source": [
    "# Prepare income information\n",
    "wage = pd.to_numeric(np.where(CPS_dataset.wsal_val!= 'None or not in universe', CPS_dataset.wsal_val, 0))\n",
    "self_employed1 = pd.to_numeric(np.where(CPS_dataset.semp_val!= 'None or not in universe', CPS_dataset.semp_val, 0))\n",
    "self_employed2 = pd.to_numeric(np.where(CPS_dataset.frse_val!= 'None or not in universe', CPS_dataset.frse_val, 0))\n",
    "income = wage + self_employed1 + self_employed2\n",
    "VB['income'] = income"
   ]
  },
  {
   "cell_type": "code",
   "execution_count": 9,
   "metadata": {
    "collapsed": true
   },
   "outputs": [],
   "source": [
    "# Prepare age information\n",
    "CPS_dataset.a_age = np.where(CPS_dataset.a_age == \"80-84 years of age\",\n",
    "                             random.randrange(80, 84),\n",
    "                             CPS_dataset.a_age)\n",
    "CPS_dataset.a_age = np.where(CPS_dataset.a_age == \"85+ years of age\",\n",
    "                             random.randrange(85, 95),\n",
    "                             CPS_dataset.a_age)\n",
    "VB['a_age'] = pd.to_numeric(CPS_dataset.a_age)"
   ]
  },
  {
   "cell_type": "code",
   "execution_count": 10,
   "metadata": {
    "collapsed": true
   },
   "outputs": [],
   "source": [
    "# Prepare gender inforamtion, 0 for male, 1 for female\n",
    "VB['sex'] = pd.to_numeric(np.where(CPS_dataset.a_sex == 'Male', 0, 1))"
   ]
  },
  {
   "cell_type": "code",
   "execution_count": 11,
   "metadata": {
    "collapsed": true
   },
   "outputs": [],
   "source": [
    "# Prepare disabilty information, 6 types\n",
    "d1 = np.where(CPS_dataset.pedisdrs == 'Yes',1,0)\n",
    "d2 = np.where(CPS_dataset.pedisear == 'Yes',1,0)\n",
    "d3 = np.where(CPS_dataset.pediseye == 'Yes',1,0)\n",
    "d4 = np.where(CPS_dataset.pedisout == 'Yes',1,0)\n",
    "d5 = np.where(CPS_dataset.pedisphy == 'Yes',1,0)\n",
    "d6 = np.where(CPS_dataset.pedisrem == 'Yes',1,0)\n",
    "VB['d1'] = d1\n",
    "VB['d2'] = d2\n",
    "VB['d3'] = d3\n",
    "VB['d4'] = d4\n",
    "VB['d5'] = d5\n",
    "VB['d6'] = d6"
   ]
  },
  {
   "cell_type": "code",
   "execution_count": 12,
   "metadata": {
    "collapsed": true
   },
   "outputs": [],
   "source": [
    "# Limitation of potential recipients\n",
    "familyactive = VB.groupby('fh_seq')['active'].sum()\n",
    "factive = DataFrame(familyactive)"
   ]
  },
  {
   "cell_type": "code",
   "execution_count": 13,
   "metadata": {},
   "outputs": [],
   "source": [
    "# Family active index\n",
    "VB['familyactive'] = np.zeros(len(VB))\n",
    "for number in VB.fh_seq:\n",
    "    VB.familyactive= np.where(VB.fh_seq==number,factive.active[factive.index==number],VB.familyactive)"
   ]
  },
  {
   "cell_type": "markdown",
   "metadata": {},
   "source": [
    "Add dummy for program participation "
   ]
  },
  {
   "cell_type": "code",
   "execution_count": 14,
   "metadata": {
    "collapsed": true
   },
   "outputs": [],
   "source": [
    "VB['paw_yn'] = np.where(CPS_dataset.paw_yn=='Yes', 1, 0)\n",
    "VB['wc_yn'] = np.where(CPS_dataset.wc_yn=='Yes', 1, 0)\n",
    "VB['uc_yn'] = np.where(CPS_dataset.uc_yn=='Yes', 1, 0)\n",
    "VB['ss_yn'] = np.where(CPS_dataset.ss_yn=='Yes', 1, 0)\n",
    "VB['sur_yn'] = np.where(CPS_dataset.sur_yn=='Yes', 1, 0)\n",
    "VB['dis_yn'] = np.where(CPS_dataset.dis_yn=='Yes', 1, 0)\n",
    "VB['hed_yn'] = np.where(CPS_dataset.hed_yn=='Yes', 1, 0)\n",
    "VB['hcsp_yn'] = np.where(CPS_dataset.hcsp_yn=='Yes', 1, 0)\n",
    "VB['hfdval'] = np.where(CPS_dataset.hfdval!='Not in universe', 1, 0)\n",
    "VB['mcare'] = np.where(CPS_dataset.mcare=='Yes', 1, 0)\n",
    "VB['mcaid'] = np.where(CPS_dataset.mcaid=='Yes', 1, 0)"
   ]
  },
  {
   "cell_type": "markdown",
   "metadata": {},
   "source": [
    "## Regression model"
   ]
  },
  {
   "cell_type": "code",
   "execution_count": 15,
   "metadata": {},
   "outputs": [
    {
     "name": "stdout",
     "output_type": "stream",
     "text": [
      "Optimization terminated successfully.\n",
      "         Current function value: 0.040644\n",
      "         Iterations 10\n"
     ]
    }
   ],
   "source": [
    "dta = VB\n",
    "dta['intercept'] = np.ones(len(dta))\n",
    "model = sm.Logit(endog=dta.indicator, exog=dta[['a_age','sex','income','d1','d2','d3','d4','d5','d6',\n",
    "                                                'active','paw_yn','wc_yn','ss_yn', 'uc_yn', 'sur_yn',\n",
    "                                                'hed_yn','hcsp_yn', 'hfdval','mcaid','mcare','intercept']]).fit()"
   ]
  },
  {
   "cell_type": "code",
   "execution_count": 16,
   "metadata": {},
   "outputs": [
    {
     "data": {
      "text/plain": [
       "3650667.969999996"
      ]
     },
     "execution_count": 16,
     "metadata": {},
     "output_type": "execute_result"
    }
   ],
   "source": [
    "dta.marsupwt[(dta.indicator==1)].sum()"
   ]
  },
  {
   "cell_type": "code",
   "execution_count": 17,
   "metadata": {},
   "outputs": [
    {
     "name": "stdout",
     "output_type": "stream",
     "text": [
      "                           Logit Regression Results                           \n",
      "==============================================================================\n",
      "Dep. Variable:              indicator   No. Observations:               199024\n",
      "Model:                          Logit   Df Residuals:                   199003\n",
      "Method:                           MLE   Df Model:                           20\n",
      "Date:                Fri, 04 Aug 2017   Pseudo R-squ.:                  0.3376\n",
      "Time:                        09:10:16   Log-Likelihood:                -8089.1\n",
      "converged:                       True   LL-Null:                       -12211.\n",
      "                                        LLR p-value:                     0.000\n",
      "==============================================================================\n",
      "                 coef    std err          z      P>|z|      [0.025      0.975]\n",
      "------------------------------------------------------------------------------\n",
      "a_age          0.0062      0.002      3.494      0.000       0.003       0.010\n",
      "sex           -0.3474      0.070     -4.987      0.000      -0.484      -0.211\n",
      "income      1.184e-07   4.56e-07      0.260      0.795   -7.76e-07    1.01e-06\n",
      "d1            -0.2874      0.134     -2.139      0.032      -0.551      -0.024\n",
      "d2             0.4113      0.075      5.520      0.000       0.265       0.557\n",
      "d3             0.1332      0.122      1.088      0.276      -0.107       0.373\n",
      "d4            -0.0014      0.112     -0.013      0.990      -0.220       0.217\n",
      "d5             0.6444      0.075      8.634      0.000       0.498       0.791\n",
      "d6             0.5462      0.095      5.776      0.000       0.361       0.732\n",
      "active         3.6358      0.065     55.692      0.000       3.508       3.764\n",
      "paw_yn        -0.0499      0.409     -0.122      0.903      -0.852       0.752\n",
      "wc_yn         -0.0324      0.313     -0.104      0.918      -0.646       0.581\n",
      "ss_yn          0.8411      0.092      9.115      0.000       0.660       1.022\n",
      "uc_yn          0.2363      0.163      1.446      0.148      -0.084       0.557\n",
      "sur_yn         0.7704      0.167      4.616      0.000       0.443       1.097\n",
      "hed_yn         0.6614      0.087      7.575      0.000       0.490       0.833\n",
      "hcsp_yn        0.0922      0.135      0.682      0.495      -0.173       0.357\n",
      "hfdval        -0.3013      0.095     -3.183      0.001      -0.487      -0.116\n",
      "mcaid         -0.1637      0.089     -1.830      0.067      -0.339       0.012\n",
      "mcare         -0.5520      0.097     -5.704      0.000      -0.742      -0.362\n",
      "intercept     -6.0887      0.089    -68.587      0.000      -6.263      -5.915\n",
      "==============================================================================\n"
     ]
    }
   ],
   "source": [
    "#print model.summary()\n",
    "print (model.summary()) #add parentheses so that print function would work with Python 3.6 version"
   ]
  },
  {
   "cell_type": "code",
   "execution_count": 18,
   "metadata": {
    "collapsed": true
   },
   "outputs": [],
   "source": [
    "probs = model.predict()"
   ]
  },
  {
   "cell_type": "markdown",
   "metadata": {},
   "source": [
    "## Import administrative data"
   ]
  },
  {
   "cell_type": "code",
   "execution_count": 19,
   "metadata": {
    "collapsed": true
   },
   "outputs": [],
   "source": [
    "admin = pd.read_csv('VB_administrative.csv',\n",
    "                    dtype={ 'Total VB population': np.float,'Average benefits': np.float, 'Total benefits': np.float, 'Medical care': np.float})\n",
    "admin.index = admin.Fips"
   ]
  },
  {
   "cell_type": "code",
   "execution_count": 20,
   "metadata": {
    "collapsed": true
   },
   "outputs": [],
   "source": [
    "# CPS total benefits and Administrative total benefits\n",
    "state_benefit = {}\n",
    "state_recipients = {}\n",
    "for state in admin.Fips:\n",
    "    this_state = (VB.gestfips==state)\n",
    "    CPS_totalb = (VB.vbvalue * VB.marsupwt)[this_state].sum()\n",
    "    admin_totalb =  admin['Total benefits'][state] \n",
    "    CPS_totaln = VB.marsupwt[this_state&VB.indicator==1].sum()\n",
    "    admin_totaln =  admin[\"Total veteran receving benefits\"][state]\n",
    "\n",
    "    temp = [admin.State[state], CPS_totalb, admin_totalb, CPS_totaln, admin_totaln]\n",
    "    state_benefit[state] = temp\n",
    "    \n",
    "pre_augment_benefit = DataFrame(state_benefit).transpose()\n",
    "pre_augment_benefit.columns = ['State', 'CPS total benefits','Admin total benefits',\n",
    "                               'CPS total individual recipients','Admin total individual recipients']"
   ]
  },
  {
   "cell_type": "code",
   "execution_count": 21,
   "metadata": {
    "collapsed": true
   },
   "outputs": [],
   "source": [
    "#pre_augment_benefit.to_csv('C:\\Users\\wangy\\OneDrive\\Documents\\BasicIncomeProject\\VB-pre-blow-up.csv')"
   ]
  },
  {
   "cell_type": "markdown",
   "metadata": {},
   "source": [
    "## Imputation"
   ]
  },
  {
   "cell_type": "code",
   "execution_count": 22,
   "metadata": {
    "collapsed": true
   },
   "outputs": [],
   "source": [
    "# caculate difference of SNAP stats and CPS aggregates on recipients number\n",
    "# by state\n",
    "diff = {'Fips':[],'Difference in Population':[],'Mean Benefit':[],'CPS Population':[],'VA Population':[]}\n",
    "diff['Fips'] = admin.Fips\n",
    "current = (VB.indicator==1)\n",
    "for FIPS in admin.Fips:\n",
    "        this_state = (VB.gestfips==FIPS)\n",
    "        current_tots = VB.marsupwt[current&this_state].sum()\n",
    "        valid_num = VB.marsupwt[current&this_state].sum() + 0.0000001\n",
    "        current_mean = ((VB.vbvalue * VB.marsupwt)[current&this_state].sum())/valid_num\n",
    "        diff['CPS Population'].append(current_tots)\n",
    "        diff['VA Population'].append(float(admin[\"Total veteran receving benefits\"][admin.Fips == FIPS]))\n",
    "        diff['Difference in Population'].append(float(admin[\"Total veteran receving benefits\"][admin.Fips == FIPS])- current_tots)\n",
    "        diff['Mean Benefit'].append(current_mean)"
   ]
  },
  {
   "cell_type": "code",
   "execution_count": 23,
   "metadata": {
    "collapsed": true
   },
   "outputs": [],
   "source": [
    "d = DataFrame(diff)\n",
    "d = d[['Fips', 'Mean Benefit', 'Difference in Population', 'CPS Population', 'VA Population']]\n",
    "#d.to_csv('recipients.csv', index=False)"
   ]
  },
  {
   "cell_type": "code",
   "execution_count": 24,
   "metadata": {},
   "outputs": [
    {
     "name": "stdout",
     "output_type": "stream",
     "text": [
      "we need to impute 63983.93 for state 1\n",
      "Method1: regression gives 62555.590000000004\n",
      "we need to impute 7996.75 for state 2\n",
      "Method1: regression gives 8110.029999999998\n",
      "we need to impute 19387.72 for state 4\n"
     ]
    },
    {
     "name": "stderr",
     "output_type": "stream",
     "text": [
      "C:\\Users\\comm6\\AppData\\Local\\Continuum\\Anaconda3\\lib\\site-packages\\ipykernel_launcher.py:26: SettingWithCopyWarning: \n",
      "A value is trying to be set on a copy of a slice from a DataFrame\n",
      "\n",
      "See the caveats in the documentation: http://pandas.pydata.org/pandas-docs/stable/indexing.html#indexing-view-versus-copy\n",
      "C:\\Users\\comm6\\AppData\\Local\\Continuum\\Anaconda3\\lib\\site-packages\\ipykernel_launcher.py:27: SettingWithCopyWarning: \n",
      "A value is trying to be set on a copy of a slice from a DataFrame\n",
      "\n",
      "See the caveats in the documentation: http://pandas.pydata.org/pandas-docs/stable/indexing.html#indexing-view-versus-copy\n"
     ]
    },
    {
     "name": "stdout",
     "output_type": "stream",
     "text": [
      "Method1: regression gives 18227.89\n",
      "we need to impute 10768.3 for state 5\n",
      "Method1: regression gives 10186.400000000001\n",
      "we need to impute 102333.73 for state 6\n",
      "Method1: regression gives 102114.15999999997\n",
      "we need to impute 11727.7 for state 8\n",
      "Method1: regression gives 11748.65\n",
      "we need to impute -3928.16 for state 9\n",
      "we need to impute 1121.21 for state 10\n",
      "Method1: regression gives 967.34\n",
      "we need to impute 1873.39 for state 11\n",
      "Method1: regression gives 1800.39\n",
      "we need to impute 137895.24 for state 12\n",
      "Method1: regression gives 137986.86000000002\n",
      "we need to impute 59480.11 for state 13\n",
      "Method1: regression gives 60370.05999999999\n",
      "we need to impute 7654.82 for state 15\n",
      "Method1: regression gives 7759.27\n",
      "we need to impute 4395.78 for state 16\n",
      "Method1: regression gives 4318.64\n",
      "we need to impute -1740.29 for state 17\n",
      "we need to impute 20139.84 for state 18\n",
      "Method1: regression gives 21805.78\n",
      "we need to impute 18910.13 for state 19\n",
      "Method1: regression gives 18066.74\n",
      "we need to impute 8579.79 for state 20\n",
      "Method1: regression gives 8399.69\n",
      "we need to impute 20643.69 for state 21\n",
      "Method1: regression gives 20167.050000000003\n",
      "we need to impute 32052.93 for state 22\n",
      "Method1: regression gives 31462.739999999998\n",
      "we need to impute -143.77 for state 23\n",
      "we need to impute 3893.48 for state 24\n",
      "Method1: regression gives 4709.389999999999\n",
      "we need to impute 21786.61 for state 25\n",
      "Method1: regression gives 22742.799999999996\n",
      "we need to impute 47432.57 for state 26\n",
      "Method1: regression gives 48048.42999999999\n",
      "we need to impute 15036.29 for state 27\n",
      "Method1: regression gives 15236.49\n",
      "we need to impute 14653.64 for state 28\n",
      "Method1: regression gives 15188.550000000003\n",
      "we need to impute 25900.1 for state 29\n",
      "Method1: regression gives 25801.950000000004\n",
      "we need to impute 4578.41 for state 30\n",
      "Method1: regression gives 4584.63\n",
      "we need to impute 7464.81 for state 31\n",
      "Method1: regression gives 7675.03\n",
      "we need to impute -1693.38 for state 32\n",
      "we need to impute 4242.32 for state 33\n",
      "Method1: regression gives 4227.88\n",
      "we need to impute 5253.18 for state 34\n",
      "Method1: regression gives 3692.79\n",
      "we need to impute -2289.34 for state 35\n",
      "we need to impute 26880.15 for state 36\n",
      "Method1: regression gives 26483.739999999998\n",
      "we need to impute 83629.08 for state 37\n",
      "Method1: regression gives 82979.48\n",
      "we need to impute 4370.64 for state 38\n",
      "Method1: regression gives 4461.37\n",
      "we need to impute 28756.72 for state 39\n",
      "Method1: regression gives 29407.05\n",
      "we need to impute 27703.36 for state 40\n",
      "Method1: regression gives 28208.38\n",
      "we need to impute 11033.23 for state 41\n",
      "Method1: regression gives 10821.02\n",
      "we need to impute 44056.35 for state 42\n",
      "Method1: regression gives 43846.98\n",
      "we need to impute -1388.2 for state 44\n",
      "we need to impute 58164.81 for state 45\n",
      "Method1: regression gives 57940.19000000001\n",
      "we need to impute 9515.01 for state 46\n",
      "Method1: regression gives 9476.64\n",
      "we need to impute 31997.5 for state 47\n",
      "Method1: regression gives 33164.380000000005\n",
      "we need to impute 167808.9 for state 48\n",
      "Method1: regression gives 168548.08000000002\n",
      "we need to impute 8682.61 for state 49\n",
      "Method1: regression gives 8508.89\n",
      "we need to impute 1772.47 for state 50\n",
      "Method1: regression gives 1642.4399999999998\n",
      "we need to impute 51577.15 for state 51\n",
      "Method1: regression gives 53731.770000000004\n",
      "we need to impute 58675.71 for state 53\n",
      "Method1: regression gives 60354.97000000002\n",
      "we need to impute 15196.35 for state 54\n",
      "Method1: regression gives 14605.090000000004\n",
      "we need to impute 13666.69 for state 55\n",
      "Method1: regression gives 13261.050000000001\n",
      "we need to impute 5706.97 for state 56\n",
      "Method1: regression gives 5840.42\n"
     ]
    }
   ],
   "source": [
    "VB['impute'] = np.zeros(len(VB))\n",
    "VB['vb_impute'] = np.zeros(len(VB))\n",
    "\n",
    "non_current = (VB.indicator==0)\n",
    "current = (VB.indicator==1)\n",
    "random.seed()\n",
    "\n",
    "for FIPS in admin.Fips:\n",
    "    \n",
    "        print ('we need to impute', d['Difference in Population'][FIPS], 'for state', FIPS)\n",
    "        \n",
    "        if d['Difference in Population'][FIPS] < 0:\n",
    "            continue\n",
    "        else:\n",
    "            this_state = (VB.gestfips==FIPS)\n",
    "            not_imputed = (VB.impute==0)\n",
    "            pool_index = VB[this_state&not_imputed&non_current].index\n",
    "            pool = DataFrame({'weight': VB.marsupwt[pool_index], 'prob': probs[pool_index]},\n",
    "                            index=pool_index)\n",
    "            pool = pool.sort_values(by='prob', ascending=False)\n",
    "            pool['cumsum_weight'] = pool['weight'].cumsum()\n",
    "            pool['distance'] = abs(pool.cumsum_weight-d['Difference in Population'][FIPS])\n",
    "            min_index = pool.sort_values(by='distance')[:1].index\n",
    "            min_weight = int(pool.loc[min_index].cumsum_weight)\n",
    "            pool['impute'] = np.where(pool.cumsum_weight<=min_weight+10 , 1, 0)\n",
    "            VB.impute[pool.index[pool['impute']==1]] = 1\n",
    "            VB.vb_impute[pool.index[pool['impute']==1]] = admin['Average benefits'][FIPS]\n",
    "\n",
    "        print ('Method1: regression gives', \n",
    "                VB.marsupwt[(VB.impute==1)&this_state].sum()) "
   ]
  },
  {
   "cell_type": "code",
   "execution_count": 25,
   "metadata": {
    "collapsed": true
   },
   "outputs": [],
   "source": [
    "#Adjustment ratio\n",
    "results = {}\n",
    "\n",
    "imputed = (VB.impute == 1)\n",
    "has_val = (VB.vbvalue != 0)\n",
    "no_val = (VB.vbvalue == 0)\n",
    "\n",
    "for FIPS in admin.Fips:\n",
    "    this_state = (VB.gestfips==FIPS)\n",
    "    \n",
    "    current_total = (VB.vbvalue * VB.marsupwt)[this_state].sum() \n",
    "    imputed_total = (VB.vb_impute * VB.marsupwt)[this_state&imputed].sum()\n",
    "    on_file = current_total + imputed_total\n",
    "\n",
    "    admin_total = admin['Total benefits'][FIPS]\n",
    "    \n",
    "    adjust_ratio = admin_total / on_file\n",
    "    this_state_num = [admin['State'][FIPS], on_file, admin_total, adjust_ratio]\n",
    "    results[FIPS] = this_state_num\n",
    "    \n",
    "\n",
    "    VB.vb_impute = np.where(has_val&this_state, VB.vbvalue * adjust_ratio, VB.vb_impute)\n",
    "    VB.vb_impute = np.where(no_val&this_state, VB.vb_impute * adjust_ratio, VB.vb_impute)\n",
    "\n",
    "VB[\"vb_participation\"] = np.zeros(len(VB))\n",
    "VB[\"vb_participation\"] = np.where(VB.impute==1, 2, 0)#Augmented\n",
    "VB[\"vb_participation\"] = np.where(has_val, 1, VB.vb_participation)#CPS \n",
    "\n",
    "\n",
    "r = DataFrame(results).transpose()\n",
    "r.columns=['State', 'Imputed', 'Admin', 'adjust ratio']\n",
    "#r.to_csv('amount.csv', index=False)"
   ]
  },
  {
   "cell_type": "markdown",
   "metadata": {},
   "source": [
    "## Assign Medical care benefit"
   ]
  },
  {
   "cell_type": "code",
   "execution_count": 26,
   "metadata": {
    "collapsed": true
   },
   "outputs": [],
   "source": [
    "#Medical care\n",
    "medical = {}\n",
    "medicalcare = {}\n",
    "for FIPS in admin.Fips:\n",
    "    this_state = (VB.gestfips==FIPS)\n",
    "    medical[FIPS] = admin['Medical care'][FIPS] / (VB.marsupwt[VB.vb_participation==1][this_state].sum())\n",
    "    VB.vb_impute = np.where((VB.vb_participation==1) & (this_state), VB.vb_impute + medical[FIPS], VB.vb_impute)\n",
    "    medicalcare[FIPS] = [admin['State'][FIPS], medical[FIPS]]"
   ]
  },
  {
   "cell_type": "code",
   "execution_count": 27,
   "metadata": {
    "collapsed": true
   },
   "outputs": [],
   "source": [
    "VB.to_csv('VB_Imputation.csv', \n",
    "         columns=['peridnum','vb_participation', 'vb_impute'],\n",
    "         index = False)"
   ]
  },
  {
   "cell_type": "code",
   "execution_count": 28,
   "metadata": {
    "collapsed": true
   },
   "outputs": [],
   "source": [
    "r = DataFrame(medicalcare).transpose()\n",
    "r.columns=['State','Individual average medical care']\n",
    "r.to_csv('medical.csv', index=False)"
   ]
  }
 ],
 "metadata": {
  "anaconda-cloud": {},
  "kernelspec": {
   "display_name": "Python 3",
   "language": "python",
   "name": "python3"
  },
  "language_info": {
   "codemirror_mode": {
    "name": "ipython",
    "version": 3
   },
   "file_extension": ".py",
   "mimetype": "text/x-python",
   "name": "python",
   "nbconvert_exporter": "python",
   "pygments_lexer": "ipython3",
   "version": "3.6.1"
  }
 },
 "nbformat": 4,
 "nbformat_minor": 1
}
