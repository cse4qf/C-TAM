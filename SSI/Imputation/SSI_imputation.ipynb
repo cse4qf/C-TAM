{
 "cells": [
  {
   "cell_type": "markdown",
   "metadata": {},
   "source": [
    "This script imputes Supplemental Security Income (SSI) recipients and dollar benefit amount to match the aggregates with Social Security Administration (SSA) statistics for SSI. In this current version, we used 2015 CPS data and SSA [2014 annual reports on SSI](https://www.ssa.gov/policy/docs/statcomps/ssi_asr/). Please refer to the documentation in the same folder for more details on methodology and assumptions. The output this script is a personal level dataset that contains CPS personal level ID (PERIDNUM), individual participation indicator (SSI_participation, 0 - not a recipient, 1 - current recipient on file, 2 - imputed recipient), and benefit amount.\n",
    "\n",
    "Input: 2015 CPS (cpsmar2015t.csv), 2014 number of recipients by age and state in Dec 2014 (SSI_by_age_state.csv)\n",
    "\n",
    "Output: SSI_Imputation.csv\n",
    "\n",
    "Additional Source links: https://www.ssa.gov/policy/docs/statcomps/ssi_sc/2015/table02.html"
   ]
  },
  {
   "cell_type": "code",
   "execution_count": 237,
   "metadata": {
    "collapsed": true
   },
   "outputs": [],
   "source": [
    "import pandas as pd\n",
    "from pandas import DataFrame\n",
    "import numpy as np\n",
    "import random\n",
    "import statsmodels.discrete.discrete_model as sm"
   ]
  },
  {
   "cell_type": "markdown",
   "metadata": {},
   "source": [
    "Trim the dataset and only keep columns relevant to SSI augmentation"
   ]
  },
  {
   "cell_type": "code",
   "execution_count": 238,
   "metadata": {
    "scrolled": true
   },
   "outputs": [
    {
     "name": "stderr",
     "output_type": "stream",
     "text": [
      "C:\\Users\\comm6\\AppData\\Local\\Continuum\\Anaconda3\\lib\\site-packages\\IPython\\core\\interactiveshell.py:2717: DtypeWarning: Columns (5,22,23,28,80,187,273) have mixed types. Specify dtype option on import or set low_memory=False.\n",
      "  interactivity=interactivity, compiler=compiler, result=result)\n"
     ]
    }
   ],
   "source": [
    "CPS_dataset = pd.read_csv('asec2015_pubuse.csv') "
   ]
  },
  {
   "cell_type": "code",
   "execution_count": 239,
   "metadata": {
    "collapsed": true
   },
   "outputs": [],
   "source": [
    "columns_to_keep = ['ssi_val', 'ssi_yn','ssikidyn', 'resnssi1', 'resnssi2', 'marsupwt', 'a_age', 'gestfips',\n",
    "                   'pedisdrs', 'pedisear', 'pediseye', 'pedisout', 'pedisphy', 'pedisrem',\n",
    "                   'dis_hp', 'rsnnotw', 'vet_typ1', 'pemlr', 'mcare', 'a_ftpt', 'filestat',\n",
    "                   'wsal_val', 'semp_val', 'frse_val', 'ss_val', 'rtm_val', 'oi_off', 'oi_val',\n",
    "                   'uc_yn', 'uc_val', 'int_yn', 'int_val', 'a_spouse', 'paw_yn', 'vet_yn', \n",
    "                   'ffpos', 'fh_seq', 'finc_ssi', 'ftot_r', 'ftotval', 'ptot_r', 'ptotval',\n",
    "                   'peridnum', 'h_seq', 'i_ssival', 'fwsval', 'wc_yn', 'ss_yn', \n",
    "                   'sur_yn', 'dis_yn', 'hed_yn', 'hcsp_yn', 'hfdval', 'mcare', 'mcaid']\n",
    "\n",
    "CPS_dataset = CPS_dataset[columns_to_keep]\n",
    "CPS_dataset.to_csv('CPSASEC_SSI.csv', columns=columns_to_keep, index=False)"
   ]
  },
  {
   "cell_type": "code",
   "execution_count": 240,
   "metadata": {
    "collapsed": true
   },
   "outputs": [],
   "source": [
    "CPS_dataset = pd.read_csv('CPSASEC_SSI.csv')"
   ]
  },
  {
   "cell_type": "markdown",
   "metadata": {},
   "source": [
    "# Converting age and SSI benefit to numeric values"
   ]
  },
  {
   "cell_type": "code",
   "execution_count": 241,
   "metadata": {
    "collapsed": true
   },
   "outputs": [],
   "source": [
    "# for now assuming ages are evenly distributed in that range\n",
    "# how to make sure they're 80 years old and 85 years old?\n",
    "CPS_dataset.a_age = np.where(CPS_dataset.a_age == \"80-84 years of age\", 80,\n",
    "                             CPS_dataset.a_age)\n",
    "CPS_dataset.a_age = np.where(CPS_dataset.a_age == \"85+ years of age\", 85,\n",
    "                             CPS_dataset.a_age)\n",
    "CPS_dataset.a_age = pd.to_numeric(CPS_dataset.a_age)"
   ]
  },
  {
   "cell_type": "code",
   "execution_count": 242,
   "metadata": {
    "collapsed": true
   },
   "outputs": [],
   "source": [
    "# all existing ssi_val are greater than 0 (min==1)\n",
    "CPS_dataset.ssi_val = np.where(CPS_dataset.ssi_val == \"None or not in universe\",'0', CPS_dataset.ssi_val)\n",
    "CPS_dataset.ssi_val = pd.to_numeric(CPS_dataset.ssi_val)"
   ]
  },
  {
   "cell_type": "markdown",
   "metadata": {},
   "source": [
    "# Create disability proxy indicator"
   ]
  },
  {
   "cell_type": "code",
   "execution_count": 243,
   "metadata": {
    "collapsed": true
   },
   "outputs": [],
   "source": [
    "a1 = (CPS_dataset.pedisdrs == 'Yes')\n",
    "a2 = (CPS_dataset.pedisear == 'Yes')\n",
    "a3 = (CPS_dataset.pediseye == 'Yes')\n",
    "a4 = (CPS_dataset.pedisout == 'Yes')\n",
    "a5 = (CPS_dataset.pedisphy == 'Yes')\n",
    "a6 = (CPS_dataset.pedisrem == 'Yes')\n",
    "disability = (a1|a2|a3|a4|a5|a6)"
   ]
  },
  {
   "cell_type": "code",
   "execution_count": 244,
   "metadata": {
    "collapsed": true
   },
   "outputs": [],
   "source": [
    "d1 = (CPS_dataset.dis_hp == 'Yes')\n",
    "d2 = (CPS_dataset.pemlr == 'Not in labor force - disabled')\n",
    "d3 = (CPS_dataset.rsnnotw == 'Ill or disabled')\n",
    "d4 = (CPS_dataset.vet_typ1 == 'Yes')\n",
    "d5 = (CPS_dataset.a_age < 65) & (CPS_dataset.mcare == 'Yes')\n",
    "work_disability = (d1|d2|d3|d4|d5)"
   ]
  },
  {
   "cell_type": "markdown",
   "metadata": {},
   "source": [
    "# Create SSI countable income proxy"
   ]
  },
  {
   "cell_type": "code",
   "execution_count": 245,
   "metadata": {
    "collapsed": true
   },
   "outputs": [],
   "source": [
    "def countable(earned, unearned, deemed=None):\n",
    "    if deemed is not None:\n",
    "        SSI_countable = earned + unearned + deemed\n",
    "    else:\n",
    "        SSI_countable = earned + unearned\n",
    "        \n",
    "    SSI_countable = np.where(SSI_countable > 0, SSI_countable, 0)\n",
    "    \n",
    "    # disgards\n",
    "    SSI_countable = np.where(SSI_countable>20*12, SSI_countable - 20*12, 0) # exclude $20 from most income items\n",
    "    SSI_countable = np.where((earned > 65*12)&(SSI_countable > 65*12), SSI_countable - 65*12, 0) # exclude he first $65 of earnings \n",
    "    SSI_countable = np.where((earned > 65*12)&(SSI_countable > 0.5*(earned - 65*12)), \n",
    "                             SSI_countable - 0.5*(earned - 65*12), 0) # one–half of earnings over $65 received in a month \n",
    "    \n",
    "    return SSI_countable"
   ]
  },
  {
   "cell_type": "code",
   "execution_count": 246,
   "metadata": {
    "collapsed": true
   },
   "outputs": [],
   "source": [
    "wage = pd.to_numeric(np.where(CPS_dataset.wsal_val!= 'None or not in universe', CPS_dataset.wsal_val, 0))\n",
    "self_employed1 = pd.to_numeric(np.where(CPS_dataset.semp_val!= 'None or not in universe', CPS_dataset.semp_val, 0))\n",
    "self_employed2 = pd.to_numeric(np.where(CPS_dataset.frse_val!= 'None or not in universe', CPS_dataset.frse_val, 0))\n",
    "earned = wage + self_employed1 + self_employed2"
   ]
  },
  {
   "cell_type": "code",
   "execution_count": 247,
   "metadata": {
    "collapsed": true
   },
   "outputs": [],
   "source": [
    "ss = pd.to_numeric(np.where(CPS_dataset.ss_val!='None or not in universe', CPS_dataset.ss_val, 0))\n",
    "pension = pd.to_numeric(np.where(CPS_dataset.rtm_val!='None or not in universe', CPS_dataset.rtm_val, 0))\n",
    "#too under-reported?\n",
    "disability = pd.to_numeric(np.where(CPS_dataset.oi_off=='State disability payments', CPS_dataset.oi_val, 0))\n",
    "unemploy = pd.to_numeric(np.where(CPS_dataset.uc_yn=='Yes', CPS_dataset.uc_val, 0))\n",
    "interest = pd.to_numeric(np.where(CPS_dataset.int_yn=='Yes', CPS_dataset.int_val, 0))\n",
    "unearned = ss + pension + disability + unemploy + interest"
   ]
  },
  {
   "cell_type": "code",
   "execution_count": 248,
   "metadata": {
    "collapsed": true
   },
   "outputs": [],
   "source": [
    "no_public_assistance = (CPS_dataset.paw_yn != 'Yes')\n",
    "not_married_HH = (CPS_dataset.filestat=='Single')|(CPS_dataset.filestat=='Nonfiler')\n",
    "student_under22 = (CPS_dataset.a_ftpt != 'Not in universe or children and')&(CPS_dataset.a_age < 22)\n",
    "under_18 = (CPS_dataset.a_age < 18)\n",
    "ineligible_children = np.where(no_public_assistance&(student_under22|under_18), 1, 0)"
   ]
  },
  {
   "cell_type": "code",
   "execution_count": 249,
   "metadata": {
    "collapsed": true
   },
   "outputs": [],
   "source": [
    "CPS_dataset['SSI_countable'] = countable(earned, unearned)"
   ]
  },
  {
   "cell_type": "code",
   "execution_count": 250,
   "metadata": {
    "collapsed": true
   },
   "outputs": [],
   "source": [
    "combined = np.where((disability==1)|(work_disability==1), 1, 0)\n",
    "aged = np.where(CPS_dataset.a_age>=65, 1, 0)"
   ]
  },
  {
   "cell_type": "code",
   "execution_count": 251,
   "metadata": {
    "collapsed": true
   },
   "outputs": [],
   "source": [
    "subfields = {'old_disabled': (combined==1)&(aged==1),\n",
    "             'young_disabled': (combined==1)&(aged==0),\n",
    "             'old_not_disabled': (combined==0)&(aged==1),\n",
    "             'young_not_disabled': (combined==0)&(aged==0)}"
   ]
  },
  {
   "cell_type": "code",
   "execution_count": 252,
   "metadata": {},
   "outputs": [
    {
     "name": "stdout",
     "output_type": "stream",
     "text": [
      "group: old_disabled, benchmark: 0\n",
      "group: young_disabled, benchmark: 1609\n",
      "group: old_not_disabled, benchmark: 0\n",
      "group: young_not_disabled, benchmark: 18642\n"
     ]
    }
   ],
   "source": [
    "low_income = np.zeros(len(CPS_dataset))\n",
    "for key in subfields:\n",
    "    benchmark = np.percentile(CPS_dataset.SSI_countable[CPS_dataset.index[(CPS_dataset.ssi_yn=='Yes')&subfields[key]]], 95)\n",
    "    low_income = np.where((CPS_dataset.SSI_countable <= benchmark) & subfields[key], 1, low_income)\n",
    "    #print \"group: %s, benchmark: %d\" % (key, benchmark)\n",
    "    print (\"group: %s, benchmark: %d\" % (key,benchmark)) #version of print() that works in Python 3.6"
   ]
  },
  {
   "cell_type": "code",
   "execution_count": 253,
   "metadata": {
    "collapsed": true
   },
   "outputs": [],
   "source": [
    "CPS_dataset['low_income'] = low_income\n",
    "CPS_dataset['ineligible_children'] = ineligible_children\n",
    "CPS_dataset['earned'] = earned\n",
    "CPS_dataset['unearned'] = unearned\n",
    "CPS_dataset['wage'] = wage"
   ]
  },
  {
   "cell_type": "markdown",
   "metadata": {},
   "source": [
    "# Defining SSI target records"
   ]
  },
  {
   "cell_type": "code",
   "execution_count": 254,
   "metadata": {
    "collapsed": true
   },
   "outputs": [],
   "source": [
    "SSI_target_pool = np.zeros(len(CPS_dataset))\n",
    "SSI_target_pool = np.where((low_income==1)&disability, 1, 0)\n",
    "SSI_target_pool = np.where((work_disability==1)&(low_income==1), 1, SSI_target_pool)\n",
    "SSI_target_pool = np.where((low_income==1)&(CPS_dataset.a_age<18), 1, SSI_target_pool)\n",
    "SSI_target_pool = np.where((low_income==1)&(CPS_dataset.a_age>=65), 1, SSI_target_pool)"
   ]
  },
  {
   "cell_type": "code",
   "execution_count": 255,
   "metadata": {
    "collapsed": true
   },
   "outputs": [],
   "source": [
    "CPS_dataset['current_recipient'] = np.where(((CPS_dataset.ssi_yn =='Yes')|(CPS_dataset.ssikidyn=='Received SSI')), 1, 0)\n",
    "SSI_target_pool = np.where(CPS_dataset.current_recipient==1, 1, SSI_target_pool)"
   ]
  },
  {
   "cell_type": "code",
   "execution_count": 256,
   "metadata": {
    "collapsed": true
   },
   "outputs": [],
   "source": [
    "SSI_target_pool = np.where(CPS_dataset.fwsval>57500, 0, SSI_target_pool)"
   ]
  },
  {
   "cell_type": "code",
   "execution_count": 257,
   "metadata": {
    "collapsed": true
   },
   "outputs": [],
   "source": [
    "CPS_dataset['SSI_target_pool'] = SSI_target_pool"
   ]
  },
  {
   "cell_type": "markdown",
   "metadata": {},
   "source": [
    "# import administrative totals"
   ]
  },
  {
   "cell_type": "code",
   "execution_count": 258,
   "metadata": {
    "collapsed": true
   },
   "outputs": [],
   "source": [
    "admin = pd.read_csv(\"SSI_by_age_state.csv\", \n",
    "                    dtype={'Under 18': np.float, '18-64':np.float, '65 or older': np.float,\n",
    "                           'Under 18 mean': np.float, '18-64 mean':np.float, '65 or older mean': np.float})\n",
    "admin.index = admin.Fips"
   ]
  },
  {
   "cell_type": "code",
   "execution_count": 259,
   "metadata": {
    "collapsed": true
   },
   "outputs": [],
   "source": [
    "# adjust targets and export adjusted targets to a CSV file\n",
    "state_benefit = {}\n",
    "state_recipients = {}\n",
    "for state in admin.Fips:\n",
    "    this_state = (CPS_dataset.gestfips==state)\n",
    "    CPS_total = (CPS_dataset.ssi_val * CPS_dataset.marsupwt)[this_state].sum()/1000000\n",
    "    federal_total = admin['State Total'][state]/1000\n",
    "    federal_total_adj = admin['State Total'][state] * 12.096/1000\n",
    "    \n",
    "    state_state = admin[\"State-administered Supplement 2010\"][state]/1000000\n",
    "    state_state_adj = admin[\"State-administered Supplement 2010\"][state] * 721/674/1000000\n",
    "    admin_total = federal_total_adj + state_state_adj\n",
    "    \n",
    "    temp = [admin['State'][state], CPS_total, federal_total, federal_total_adj, \n",
    "            state_state, state_state_adj, admin_total]\n",
    "    state_benefit[state] = temp\n",
    "    \n",
    "pre_augment_benefit = DataFrame(state_benefit).transpose()\n",
    "pre_augment_benefit.columns = ['State', 'CPS total', 'Federal Total', 'Federal Total after Adjustment',\n",
    "                               'State Total', 'State Total After adjustment', 'Admin Total']"
   ]
  },
  {
   "cell_type": "code",
   "execution_count": 260,
   "metadata": {
    "collapsed": true
   },
   "outputs": [],
   "source": [
    "pre_augment_benefit.to_csv('pre-blow-up.csv')"
   ]
  },
  {
   "cell_type": "code",
   "execution_count": 261,
   "metadata": {},
   "outputs": [
    {
     "data": {
      "text/plain": [
       "6846928.109999987"
      ]
     },
     "execution_count": 261,
     "metadata": {},
     "output_type": "execute_result"
    }
   ],
   "source": [
    "CPS_dataset.marsupwt[CPS_dataset.ssi_yn=='Yes'].sum()"
   ]
  },
  {
   "cell_type": "code",
   "execution_count": 262,
   "metadata": {
    "collapsed": true
   },
   "outputs": [],
   "source": [
    "# calculate difference of SSA stats and CPS aggregates on recipients' number\n",
    "# by state and age\n",
    "diff = {'Fips': [], 'Under 18':[], '18-64':[], '65 or older':[],\n",
    "        'Under 18 mean':[], '18-64 mean':[], '65 or older mean':[],\n",
    "       'Under 18 cps':[], '18-64 cps':[], '65 or older cps':[],\n",
    "       'Under 18 ssa':[], '18-64 ssa':[], '65 or older ssa':[]}\n",
    "diff['Fips'] = admin.Fips\n",
    "\n",
    "current = (CPS_dataset.current_recipient==1)\n",
    "category = {'Under 18': (CPS_dataset.a_age<18),\n",
    "            '18-64': (CPS_dataset.a_age>=18)&(CPS_dataset.a_age<65),\n",
    "            '65 or older': (CPS_dataset.a_age>=65)}\n",
    "\n",
    "augment_ratio = {'Under 18': 1.401/1.299,\n",
    "                 '18-64': 5.523/4.626,\n",
    "                 '65 or older': 2.344/2.122}\n",
    "\n",
    "for group in ['Under 18', '18-64', '65 or older']:\n",
    "    for FIPS in admin.Fips:\n",
    "        this_state = (CPS_dataset.gestfips==FIPS)\n",
    "        age_range = category[group]\n",
    "        current_tots = CPS_dataset.marsupwt[current&this_state&age_range].sum()\n",
    "        \n",
    "        valid_num = CPS_dataset.marsupwt[current&this_state&age_range].sum() + 0.0000001\n",
    "        current_mean = ((CPS_dataset.ssi_val*CPS_dataset.marsupwt)[current&this_state&age_range]).sum()/valid_num\n",
    "        \n",
    "        this_admin = augment_ratio[group] * float(admin[group][admin.Fips==FIPS])\n",
    "        diff[str(group) + ' cps'].append(current_tots)\n",
    "        diff[str(group) + ' ssa'].append(float(admin[group][admin.Fips==FIPS]))\n",
    "        diff[group].append(this_admin - current_tots)\n",
    "        diff[str(group + ' mean')].append(float(current_mean)/12)"
   ]
  },
  {
   "cell_type": "code",
   "execution_count": 263,
   "metadata": {
    "collapsed": true
   },
   "outputs": [],
   "source": [
    "d = DataFrame(diff)\n",
    "d.to_csv('recipients.csv', index=False)"
   ]
  },
  {
   "cell_type": "code",
   "execution_count": 264,
   "metadata": {
    "collapsed": true
   },
   "outputs": [],
   "source": [
    "CPS_dataset['ssi_indicator'] = np.where((CPS_dataset.ssi_yn=='Yes')|(CPS_dataset.ssikidyn=='Received SSI'), 1, 0)\n",
    "CPS_dataset['paw_yn'] = np.where(CPS_dataset.paw_yn=='Yes', 1, 0)\n",
    "CPS_dataset['wc_yn'] = np.where(CPS_dataset.wc_yn=='Yes', 1, 0)\n",
    "CPS_dataset['uc_yn'] = np.where(CPS_dataset.uc_yn=='Yes', 1, 0)\n",
    "CPS_dataset['ss_yn'] = np.where(CPS_dataset.ss_yn=='Yes', 1, 0)\n",
    "CPS_dataset['sur_yn'] = np.where(CPS_dataset.sur_yn=='Yes', 1, 0)\n",
    "CPS_dataset['dis_yn'] = np.where(CPS_dataset.dis_yn=='Yes', 1, 0)\n",
    "CPS_dataset['vet_yn'] = np.where(CPS_dataset.vet_yn=='Yes', 1, 0)\n",
    "CPS_dataset['hed_yn'] = np.where(CPS_dataset.hed_yn=='Yes', 1, 0)\n",
    "CPS_dataset['hcsp_yn'] = np.where(CPS_dataset.hcsp_yn=='Yes', 1, 0)\n",
    "CPS_dataset['hfdval'] = np.where(CPS_dataset.hfdval!='Not in universe', 1, 0)\n",
    "CPS_dataset['countable_income'] = CPS_dataset.SSI_countable\n",
    "CPS_dataset['mcare'] = np.where(CPS_dataset.mcare=='Yes', 1, 0)\n",
    "CPS_dataset['mcaid'] = np.where(CPS_dataset.mcaid=='Yes', 1, 0)\n",
    "\n",
    "SSI_disability = ((CPS_dataset.resnssi1!='NIU')&(CPS_dataset.resnssi1!='Other (adult or child)'))|((CPS_dataset.resnssi2!='NIU')&(CPS_dataset.resnssi2!='Other (adult or child)'))\n",
    "CPS_dataset['combined_disability'] = np.where(disability|work_disability|SSI_disability, 1, 0)"
   ]
  },
  {
   "cell_type": "code",
   "execution_count": 265,
   "metadata": {
    "collapsed": true
   },
   "outputs": [],
   "source": [
    "CPS_dataset['age_dummy18'] = np.where(CPS_dataset.a_age<18, 1, 0)\n",
    "CPS_dataset['age_dummy65'] = np.where(CPS_dataset.a_age>=65, 1, 0)"
   ]
  },
  {
   "cell_type": "code",
   "execution_count": 266,
   "metadata": {},
   "outputs": [
    {
     "name": "stdout",
     "output_type": "stream",
     "text": [
      "Optimization terminated successfully.\n",
      "         Current function value: 0.035563\n",
      "         Iterations 12\n"
     ]
    }
   ],
   "source": [
    "CPS_dataset['intercept'] = np.ones(len(CPS_dataset))\n",
    "CPS_dataset['age18_X_disability'] = CPS_dataset.age_dummy18 * CPS_dataset.combined_disability\n",
    "CPS_dataset['age65_X_disability'] = CPS_dataset.age_dummy65 * CPS_dataset.combined_disability\n",
    "model = sm.Logit(endog= CPS_dataset.ssi_indicator, \n",
    "                 exog= CPS_dataset[['intercept','countable_income','combined_disability','uc_yn', 'ss_yn', 'wc_yn',\n",
    "                                    'paw_yn', 'vet_yn', 'sur_yn', 'hed_yn', 'hcsp_yn', 'hfdval', 'mcare', 'mcaid',\n",
    "                                    'age_dummy18','age_dummy65','age18_X_disability', 'age65_X_disability']])\n",
    "results = model.fit()"
   ]
  },
  {
   "cell_type": "code",
   "execution_count": 267,
   "metadata": {
    "scrolled": false
   },
   "outputs": [
    {
     "name": "stdout",
     "output_type": "stream",
     "text": [
      "                           Logit Regression Results                           \n",
      "==============================================================================\n",
      "Dep. Variable:          ssi_indicator   No. Observations:               199024\n",
      "Model:                          Logit   Df Residuals:                   199006\n",
      "Method:                           MLE   Df Model:                           17\n",
      "Date:                Fri, 28 Jul 2017   Pseudo R-squ.:                  0.6425\n",
      "Time:                        17:01:42   Log-Likelihood:                -7077.9\n",
      "converged:                       True   LL-Null:                       -19798.\n",
      "                                        LLR p-value:                     0.000\n",
      "=======================================================================================\n",
      "                          coef    std err          z      P>|z|      [0.025      0.975]\n",
      "---------------------------------------------------------------------------------------\n",
      "intercept              -8.3111      0.111    -74.788      0.000      -8.529      -8.093\n",
      "countable_income    -4.321e-05   5.06e-06     -8.537      0.000   -5.31e-05   -3.33e-05\n",
      "combined_disability     4.2421      0.091     46.713      0.000       4.064       4.420\n",
      "uc_yn                   0.1284      0.180      0.713      0.476      -0.225       0.481\n",
      "ss_yn                  -1.0188      0.057    -17.780      0.000      -1.131      -0.907\n",
      "wc_yn                  -0.9791      0.256     -3.829      0.000      -1.480      -0.478\n",
      "paw_yn                 -0.6634      0.107     -6.206      0.000      -0.873      -0.454\n",
      "vet_yn                 -0.6615      0.159     -4.163      0.000      -0.973      -0.350\n",
      "sur_yn                 -0.0390      0.213     -0.183      0.855      -0.457       0.379\n",
      "hed_yn                 -0.3523      0.103     -3.410      0.001      -0.555      -0.150\n",
      "hcsp_yn                -0.1168      0.100     -1.172      0.241      -0.312       0.078\n",
      "hfdval                  0.4466      0.046      9.723      0.000       0.357       0.537\n",
      "mcare                   0.8856      0.065     13.555      0.000       0.758       1.014\n",
      "mcaid                   3.9868      0.073     54.793      0.000       3.844       4.129\n",
      "age_dummy18            -2.4784      0.208    -11.914      0.000      -2.886      -2.071\n",
      "age_dummy65             2.1397      0.135     15.844      0.000       1.875       2.404\n",
      "age18_X_disability      2.1967      0.240      9.149      0.000       1.726       2.667\n",
      "age65_X_disability     -1.8176      0.139    -13.096      0.000      -2.090      -1.546\n",
      "=======================================================================================\n",
      "\n",
      "Possibly complete quasi-separation: A fraction 0.36 of observations can be\n",
      "perfectly predicted. This might indicate that there is complete\n",
      "quasi-separation. In this case some parameters will not be identified.\n"
     ]
    }
   ],
   "source": [
    "#print results.summary()\n",
    "print (results.summary()) #version of print() function that works in Python 3.6"
   ]
  },
  {
   "cell_type": "code",
   "execution_count": 268,
   "metadata": {
    "collapsed": true
   },
   "outputs": [],
   "source": [
    "probs = results.predict()\n",
    "CPS_dataset['probs'] = probs"
   ]
  },
  {
   "cell_type": "code",
   "execution_count": 269,
   "metadata": {
    "scrolled": false
   },
   "outputs": [
    {
     "name": "stdout",
     "output_type": "stream",
     "text": [
      "we need to impute 28587.2100693 for state 1 In the end we get 28984.879999999997\n",
      "we need to impute 1356.78060046 for state 2 In the end we get 1531.83\n",
      "we need to impute 22625.2332564 for state 4 In the end we get 23270.149999999998\n",
      "we need to impute 24828.5487529 for state 5 In the end we get 23881.530000000002\n",
      "we need to impute 107522.95448 for state 6 In the end we get 107077.08000000002\n",
      "we need to impute 7001.34270208 for state 8 In the end we get 7113.42\n",
      "we need to impute 7292.25909931 for state 9 In the end we get 7067.889999999999\n",
      "we need to impute 3883.75750577 for state 10 In the end we get 3824.3999999999996\n",
      "we need to impute 3914.05099307 for state 11 In the end we get 3870.46\n",
      "we need to impute 107371.203372 for state 12 In the end we get 107672.67000000001\n",
      "we need to impute 39101.0292148 for state 13 In the end we get 39037.75\n",
      "we need to impute 1790.34642032 for state 15 In the end we get 1738.3799999999999\n",
      "we need to impute 5234.49833718 for state 16 In the end we get 5063.02\n",
      "we need to impute 29883.6616397 for state 17 In the end we get 29204.379999999997\n",
      "we need to impute 19225.8600693 for state 18 In the end we get 19753.730000000003\n",
      "we need to impute 8388.06210162 for state 19 In the end we get 8972.6\n",
      "we need to impute 9296.5947806 for state 20 In the end we get 9227.71\n",
      "we need to impute 23505.1415242 for state 21 In the end we get 24039.530000000002\n",
      "we need to impute 33304.1484758 for state 22 In the end we get 33413.72\n",
      "we need to impute 3742.71050808 for state 23 In the end we get 3470.57\n",
      "we need to impute 18702.1996767 for state 24 In the end we get 18524.81\n",
      "we need to impute 19653.4861201 for state 25 In the end we get 19666.94\n",
      "we need to impute 37447.6444111 for state 26 In the end we get 38927.81\n",
      "we need to impute 10239.1498845 for state 27 In the end we get 10279.679999999998\n",
      "we need to impute 19772.2447806 for state 28 In the end we get 19357.920000000002\n",
      "we need to impute 14847.9130023 for state 29 In the end we get 15417.01\n",
      "we need to impute 1756.40274827 for state 30 In the end we get 1681.72\n",
      "we need to impute 3949.65256351 for state 31 In the end we get 4085.0299999999997\n",
      "we need to impute 7324.80466513 for state 32 In the end we get 7629.0199999999995\n",
      "we need to impute 1434.29120092 for state 33 In the end we get 1609.1\n",
      "we need to impute 19110.4171132 for state 34 In the end we get 17947.69\n",
      "we need to impute 8705.91020785 for state 35 In the end we get 8968.439999999999\n",
      "we need to impute 75544.8374134 for state 36 In the end we get 75698.60999999999\n",
      "we need to impute 38755.8874134 for state 37 In the end we get 38112.75\n",
      "we need to impute 868.134988453 for state 38 In the end we get 847.72\n",
      "we need to impute 42096.9137875 for state 39 In the end we get 42243.49\n",
      "we need to impute 17627.5370439 for state 40 In the end we get 17855.52\n",
      "we need to impute 11577.9330254 for state 41 In the end we get 10225.289999999999\n",
      "we need to impute 63848.7674365 for state 42 In the end we get 62957.869999999995\n",
      "we need to impute 3937.63293303 for state 44 In the end we get 3992.8999999999996\n",
      "we need to impute 20763.3703695 for state 45 In the end we get 21071.06\n",
      "we need to impute 2819.25635104 for state 46 In the end we get 2885.29\n",
      "we need to impute 26918.8290993 for state 47 In the end we get 26564.7\n",
      "we need to impute 133823.80448 for state 48 In the end we get 134567.38999999996\n",
      "we need to impute 5807.84064665 for state 49 In the end we get 6057.19\n",
      "we need to impute 882.725196305 for state 50 In the end we get 726.3199999999999\n",
      "we need to impute 19698.2869746 for state 51 In the end we get 18982.719999999998\n",
      "we need to impute 16333.4767206 for state 53 In the end we get 15629.66\n",
      "we need to impute 3274.73796767 for state 54 In the end we get 3129.63\n",
      "we need to impute 20391.7259353 for state 55 In the end we get 20760.25\n",
      "we need to impute 1080.67898383 for state 56 In the end we get 1094.46\n",
      "we need to impute 39356.8071336 for state 1 In the end we get 39645.22000000001\n",
      "we need to impute 1235.56832685 for state 2 In the end we get 1178.92\n",
      "we need to impute 21398.3992996 for state 4 In the end we get 22025.15\n",
      "we need to impute 9326.42103761 for state 5 In the end we get 9251.380000000001\n",
      "we need to impute 198050.236783 for state 6 In the end we get 199260.88999999998\n",
      "we need to impute 9101.55853437 for state 11 In the end we get 9024.679999999998\n",
      "we need to impute 69095.6313489 for state 13 In the end we get 68664.39\n",
      "we need to impute 4696.04779507 for state 15 In the end we get 4535.74\n",
      "we need to impute 7186.06636835 for state 16 In the end we get 7143.450000000001\n",
      "we need to impute 97753.630869 for state 17 In the end we get 97038.73\n",
      "we need to impute 32949.8719455 for state 21 In the end we get 32538.050000000003\n",
      "we need to impute 37526.689131 for state 22 In the end we get 37913.74999999999\n",
      "we need to impute 2404.92662776 for state 23 In the end we get 2221.11\n",
      "we need to impute 20705.2907393 for state 24 In the end we get 20200.36\n",
      "we need to impute 30109.6461219 for state 26 In the end we get 29946.91\n",
      "we need to impute 3373.7722179 for state 27 In the end we get 2534.37\n",
      "we need to impute 8862.54614786 for state 28 In the end we get 8774.719999999998\n",
      "we need to impute 37260.6376524 for state 29 In the end we get 36207.15\n",
      "we need to impute 2361.44815824 for state 31 In the end we get 2138.79\n",
      "we need to impute 23013.3852918 for state 35 In the end we get 22927.210000000003\n",
      "we need to impute 17069.9987419 for state 37 In the end we get 17420.91\n",
      "we need to impute 2380.27861219 for state 38 In the end we get 2216.45\n",
      "we need to impute 9856.16634241 for state 40 In the end we get 10361.03\n",
      "we need to impute 5603.79075227 for state 41 In the end we get 6175.67\n",
      "we need to impute 30562.2003243 for state 42 In the end we get 30593.89\n",
      "we need to impute 7630.79870298 for state 44 In the end we get 7724.38\n",
      "we need to impute 10758.9815175 for state 45 In the end we get 10986.55\n",
      "we need to impute 2472.8 for state 46 In the end we get 2944.13\n",
      "we need to impute 65499.4564721 for state 47 In the end we get 65751.21\n",
      "we need to impute 1141.10444877 for state 50 In the end we get 1065.4099999999999\n",
      "we need to impute 10399.5220882 for state 51 In the end we get 9109.14\n",
      "we need to impute 9469.95553826 for state 53 In the end we get 9051.0\n",
      "we need to impute 13382.3263424 for state 55 In the end we get 13550.58\n",
      "we need to impute 153.730933852 for state 56 In the end we get 186.49\n",
      "we need to impute 11212.4443261 for state 1 In the end we get 10831.210000000001\n",
      "we need to impute 1158.30130066 for state 2 In the end we get 1034.26\n",
      "we need to impute 11404.5724694 for state 4 In the end we get 11473.27\n",
      "we need to impute 277619.63278 for state 6 In the end we get 276339.74000000017\n",
      "we need to impute 4662.41092366 for state 9 In the end we get 4637.9800000000005\n",
      "we need to impute 358.175400566 for state 10 In the end we get 448.88\n",
      "we need to impute 1426.03506126 for state 11 In the end we get 1374.3300000000002\n",
      "we need to impute 97268.560132 for state 12 In the end we get 97605.29000000004\n",
      "we need to impute 31438.7384072 for state 13 In the end we get 31060.46\n",
      "we need to impute 4149.53930254 for state 15 In the end we get 4163.56\n",
      "we need to impute 1083.82645617 for state 16 In the end we get 751.03\n",
      "we need to impute 32759.9824976 for state 17 In the end we get 34339.58\n",
      "we need to impute 836.933506126 for state 18 In the end we get 1420.23\n",
      "we need to impute 2036.98367578 for state 19 In the end we get 2076.56\n",
      "we need to impute 5691.04238454 for state 20 In the end we get 5339.5\n",
      "we need to impute 10410.0743827 for state 21 In the end we get 10308.32\n",
      "we need to impute 5368.67983977 for state 22 In the end we get 5291.33\n",
      "we need to impute 4024.81179076 for state 23 In the end we get 4197.03\n",
      "we need to impute 19978.1355137 for state 24 In the end we get 20786.27\n",
      "we need to impute 8181.6328558 for state 25 In the end we get 8481.57\n",
      "we need to impute 20396.46377 for state 26 In the end we get 20109.84\n",
      "we need to impute 7411.77295947 for state 27 In the end we get 7347.73\n",
      "we need to impute 7607.57476909 for state 28 In the end we get 7293.19\n",
      "we need to impute 2338.65651272 for state 29 In the end we get 2959.35\n",
      "we need to impute 1187.5473327 for state 30 In the end we get 1006.77\n",
      "we need to impute 3683.16129123 for state 31 In the end we get 4083.2200000000003\n",
      "we need to impute 7712.21544769 for state 32 In the end we get 7700.71\n",
      "we need to impute 34937.6462959 for state 34 In the end we get 34277.770000000004\n",
      "we need to impute 12261.0422432 for state 35 In the end we get 12163.23\n",
      "we need to impute 18989.2803487 for state 36 In the end we get 18883.42\n",
      "we need to impute 3811.96713478 for state 37 In the end we get 4085.2299999999996\n"
     ]
    },
    {
     "name": "stdout",
     "output_type": "stream",
     "text": [
      "we need to impute 11448.8214797 for state 39 In the end we get 12960.16\n",
      "we need to impute 3734.06459001 for state 40 In the end we get 3630.3199999999997\n",
      "we need to impute 7172.3933459 for state 41 In the end we get 6604.23\n",
      "we need to impute 5031.01803959 for state 42 In the end we get 6526.64\n",
      "we need to impute 5362.3367295 for state 44 In the end we get 5466.249999999999\n",
      "we need to impute 4201.05212064 for state 45 In the end we get 4196.74\n",
      "we need to impute 17480.4884637 for state 47 In the end we get 16571.9\n",
      "we need to impute 95690.2007069 for state 48 In the end we get 96510.23000000001\n",
      "we need to impute 1765.40805844 for state 49 In the end we get 2098.72\n",
      "we need to impute 1512.75509896 for state 50 In the end we get 1406.8\n",
      "we need to impute 17145.7256833 for state 51 In the end we get 17584.129999999997\n",
      "we need to impute 3642.47751178 for state 53 In the end we get 2839.95\n",
      "we need to impute 1113.5296984 for state 55 In the end we get 1250.34\n",
      "we need to impute 753.315617342 for state 56 In the end we get 731.53\n"
     ]
    }
   ],
   "source": [
    "CPS_dataset['impute'] = np.zeros(len(CPS_dataset))\n",
    "CPS_dataset['ssi_impute'] = np.zeros(len(CPS_dataset))\n",
    "\n",
    "non_current = (CPS_dataset.current_recipient == 0)\n",
    "current = (CPS_dataset.current_recipient == 1)\n",
    "targets = (CPS_dataset.SSI_target_pool==1)\n",
    "random.seed()\n",
    "\n",
    "for group in ['Under 18','18-64', '65 or older']:\n",
    "    for FIPS in admin.Fips:\n",
    "        \n",
    "        if d[str(group)][FIPS] < 0:\n",
    "            continue\n",
    "        else:\n",
    "            this_state = (CPS_dataset.gestfips==FIPS)\n",
    "            age_range = category[group]\n",
    "            \n",
    "            not_imputed = (CPS_dataset.impute==0)\n",
    "            \n",
    "            pool_index = CPS_dataset[this_state&age_range&non_current&not_imputed&targets].index\n",
    "            if len(pool_index)==0:\n",
    "                print ('there is nothing we could do you this sate', FIPS, 'at age range', group)\n",
    "                continue\n",
    "            \n",
    "            pool = DataFrame({'weight': CPS_dataset.marsupwt[pool_index], 'prob': probs[pool_index]},\n",
    "                            index=pool_index)\n",
    "            \n",
    "            pool = pool.sort_values(by='prob', ascending=False)\n",
    "            pool['cumsum_weight'] = pool['weight'].cumsum()\n",
    "            pool['distance'] = abs(pool.cumsum_weight-d[str(group)][FIPS])\n",
    "            min_index = pool.sort_values(by='distance')[:1].index\n",
    "            min_weight = int(pool.loc[min_index].cumsum_weight)\n",
    "            pool['impute'] = np.where(pool.cumsum_weight<=min_weight+10 , 1, 0)\n",
    "            CPS_dataset.loc[pool.index[pool['impute']==1], 'impute'] = 1\n",
    "            CPS_dataset.loc[pool.index[pool['impute']==1], 'ssi_impute'] = admin[str(group)+' mean'][FIPS] * 12\n",
    "        \n",
    "        print ('we need to impute', d[group][FIPS], 'for state', FIPS, 'In the end we get', \n",
    "                CPS_dataset.marsupwt[(CPS_dataset.impute==1)&this_state&age_range].sum())   "
   ]
  },
  {
   "cell_type": "code",
   "execution_count": 270,
   "metadata": {
    "collapsed": true
   },
   "outputs": [],
   "source": [
    "results = {}\n",
    "\n",
    "imputed = (CPS_dataset.impute == 1)\n",
    "has_val = (CPS_dataset.ssi_val != 0)\n",
    "no_val = (CPS_dataset.ssi_val == 0)\n",
    "\n",
    "for FIPS in admin.Fips:\n",
    "    this_state = (CPS_dataset.gestfips==FIPS)\n",
    "    \n",
    "    # sum up current recipients total and imputed totals\n",
    "    current_total = (CPS_dataset.ssi_val*CPS_dataset.marsupwt)[this_state&(CPS_dataset.fwsval<57500)].sum()\n",
    "    imputed_total = (CPS_dataset.ssi_impute*CPS_dataset.marsupwt)[this_state&imputed].sum()\n",
    "    on_file = (current_total + imputed_total)/1000000\n",
    "    \n",
    "    # w\n",
    "    federal_total = admin['State Total'][FIPS] * 55000000.0/admin['State Total'].sum()/1000\n",
    "    state_state = admin[\"State-administered Supplement 2010\"][FIPS] * 721/674/1000000\n",
    "    admin_total = federal_total + state_state\n",
    "    \n",
    "    adjust_ratio = admin_total / on_file\n",
    "    this_state_num = [admin['State'][FIPS], on_file, admin_total, adjust_ratio]\n",
    "    results[FIPS] = this_state_num\n",
    "    \n",
    "\n",
    "    CPS_dataset.ssi_impute = np.where(has_val&this_state, CPS_dataset.ssi_val * adjust_ratio, CPS_dataset.ssi_impute)\n",
    "    CPS_dataset.ssi_impute = np.where(no_val&this_state, CPS_dataset.ssi_impute * adjust_ratio, CPS_dataset.ssi_impute)\n",
    "\n",
    "CPS_dataset[\"ssi_participation\"] = np.zeros(len(CPS_dataset))\n",
    "CPS_dataset.ssi_participation = np.where(CPS_dataset.impute==1, 2, 0)\n",
    "CPS_dataset.ssi_participation = np.where(current&(CPS_dataset.fwsval<57500), 1, CPS_dataset.ssi_participation)\n",
    "CPS_dataset.ssi_impute = np.where(CPS_dataset.ssi_participation==0, 0, CPS_dataset.ssi_impute)\n",
    "\n",
    "r = DataFrame(results).transpose()\n",
    "r.columns=['State', 'Imputed', 'Admin', 'adjust ratio']\n",
    "r.to_csv('amount.csv', index=False)"
   ]
  },
  {
   "cell_type": "code",
   "execution_count": 271,
   "metadata": {},
   "outputs": [
    {
     "data": {
      "text/plain": [
       "59601728454.952675"
      ]
     },
     "execution_count": 271,
     "metadata": {},
     "output_type": "execute_result"
    }
   ],
   "source": [
    "(CPS_dataset.marsupwt * CPS_dataset.ssi_impute)[CPS_dataset.ssi_participation!=0].sum()"
   ]
  },
  {
   "cell_type": "code",
   "execution_count": 272,
   "metadata": {},
   "outputs": [
    {
     "data": {
      "text/plain": [
       "9357436.350000013"
      ]
     },
     "execution_count": 272,
     "metadata": {},
     "output_type": "execute_result"
    }
   ],
   "source": [
    "CPS_dataset.marsupwt[CPS_dataset.ssi_participation!=0].sum()"
   ]
  },
  {
   "cell_type": "code",
   "execution_count": 273,
   "metadata": {},
   "outputs": [
    {
     "data": {
      "text/plain": [
       "6345993.43"
      ]
     },
     "execution_count": 273,
     "metadata": {},
     "output_type": "execute_result"
    }
   ],
   "source": [
    "CPS_dataset.marsupwt[(CPS_dataset.current_recipient==1)&(CPS_dataset.earned==0)].sum()"
   ]
  },
  {
   "cell_type": "code",
   "execution_count": 274,
   "metadata": {
    "collapsed": true
   },
   "outputs": [],
   "source": [
    "CPS_dataset.to_csv('SSI_Imputation.csv', \n",
    "                   columns=['peridnum', 'ssi_participation', 'ssi_impute', 'h_seq', 'wage', 'a_age', 'fwsval','marsupwt', 'probs'],\n",
    "                   index=False)\n"
   ]
  },
  {
   "cell_type": "code",
   "execution_count": 275,
   "metadata": {},
   "outputs": [
    {
     "data": {
      "text/plain": [
       "0         0\n",
       "1         0\n",
       "2         0\n",
       "3         0\n",
       "4         0\n",
       "5         0\n",
       "6         0\n",
       "7         0\n",
       "8         0\n",
       "9         0\n",
       "10        0\n",
       "11        0\n",
       "12        0\n",
       "13        0\n",
       "14        0\n",
       "15        0\n",
       "16        0\n",
       "17        0\n",
       "18        0\n",
       "19        0\n",
       "20        0\n",
       "21        0\n",
       "22        0\n",
       "23        0\n",
       "24        0\n",
       "25        0\n",
       "26        0\n",
       "27        0\n",
       "28        0\n",
       "29        0\n",
       "         ..\n",
       "198994    0\n",
       "198995    0\n",
       "198996    0\n",
       "198997    0\n",
       "198998    0\n",
       "198999    0\n",
       "199000    0\n",
       "199001    0\n",
       "199002    0\n",
       "199003    0\n",
       "199004    0\n",
       "199005    0\n",
       "199006    0\n",
       "199007    0\n",
       "199008    0\n",
       "199009    0\n",
       "199010    0\n",
       "199011    0\n",
       "199012    0\n",
       "199013    0\n",
       "199014    0\n",
       "199015    0\n",
       "199016    0\n",
       "199017    0\n",
       "199018    0\n",
       "199019    0\n",
       "199020    0\n",
       "199021    0\n",
       "199022    0\n",
       "199023    0\n",
       "Name: ssi_indicator, Length: 199024, dtype: int32"
      ]
     },
     "execution_count": 275,
     "metadata": {},
     "output_type": "execute_result"
    }
   ],
   "source": [
    "CPS_dataset['ssi_indicator'] "
   ]
  }
 ],
 "metadata": {
  "anaconda-cloud": {},
  "kernelspec": {
   "display_name": "Python 3",
   "language": "python",
   "name": "python3"
  }
 },
 "nbformat": 4,
 "nbformat_minor": 1
}
